{
 "cells": [
  {
   "cell_type": "markdown",
   "id": "48232a72-0495-40be-aec8-6c717680365c",
   "metadata": {},
   "source": [
    "Exercise 2 - Create a markdown cell with the title of the notebook. "
   ]
  },
  {
   "cell_type": "markdown",
   "id": "632c6673-8090-4f3d-8468-f0076b3714d1",
   "metadata": {
    "tags": []
   },
   "source": [
    "# Data Science Tools and Ecosystem"
   ]
  },
  {
   "cell_type": "markdown",
   "id": "33b9a224-5298-4fc5-92cc-0ca2dd86db63",
   "metadata": {},
   "source": [
    "Exercise 3 - Create a markdown cell for an introduction"
   ]
  },
  {
   "cell_type": "markdown",
   "id": "b989da9d-c8a9-4aa7-9253-c474b2b8d934",
   "metadata": {},
   "source": [
    "In this notebook, Data Science Tools and Ecosystem are summarized."
   ]
  },
  {
   "cell_type": "markdown",
   "id": "7b4380cd-629c-47d3-bcb5-8d6df0d9993f",
   "metadata": {},
   "source": [
    "Exercise 10 - Insert a markdown cell to list Objectives"
   ]
  },
  {
   "cell_type": "markdown",
   "id": "5a748e62-a130-430f-b988-56566bed0149",
   "metadata": {},
   "source": [
    "**Objectives:**\n",
    "- List popular languages for Data Science.\n",
    "- Identify the users and benefits of Python.\n",
    "- Identify the users and benefits of R language.\n",
    "- List the various libraries: scientific, visualization, machine learning, and deep learning.\n",
    "- Describe data sets and sources of data."
   ]
  },
  {
   "cell_type": "markdown",
   "id": "149ed098-75b4-40d1-b0a4-063f69d8db49",
   "metadata": {},
   "source": [
    "Exercise 4 - Create a markdown cell to list data science languages"
   ]
  },
  {
   "cell_type": "markdown",
   "id": "d08b5162-aba8-4960-9404-ecb557526fa6",
   "metadata": {},
   "source": [
    "Some of the popular languages that Data Scientists use are:\n",
    "1. Python\n",
    "2. R\n",
    "3. SQL"
   ]
  },
  {
   "cell_type": "markdown",
   "id": "0c4a09b2-6d0d-4ec4-8ec9-d70c21ae37ad",
   "metadata": {},
   "source": [
    "Exercise 5 - Create a markdown cell to list data science libraries"
   ]
  },
  {
   "cell_type": "markdown",
   "id": "522acbe6-9b13-4541-b05d-fe2fa66fc10a",
   "metadata": {},
   "source": [
    "Some of the commonly used libraries used by Data Scientists include:\n",
    "1. NumPy\n",
    "2. Keras\n",
    "3. Pandas"
   ]
  },
  {
   "cell_type": "markdown",
   "id": "6ae9cdcb-13fe-4909-af22-acdc4c3e697d",
   "metadata": {},
   "source": [
    "Exercise 6 - Create a markdown cell with a table of Data Science tools"
   ]
  },
  {
   "cell_type": "markdown",
   "id": "436d9db9-df21-4217-a19c-efe6475365b6",
   "metadata": {},
   "source": [
    "|Data Science Tools|\n",
    "| ------ |\n",
    "| RStudio |\n",
    "|Apache Spark|\n",
    "|TensorFlow|"
   ]
  },
  {
   "cell_type": "markdown",
   "id": "6d061f57-5110-4fd6-918f-8d22e13dbe34",
   "metadata": {},
   "source": [
    "Exercise 7 - Create a markdown cell introducing arithmetic expression examples"
   ]
  },
  {
   "cell_type": "markdown",
   "id": "ab019ee9-8573-449e-90d4-d5112830cde5",
   "metadata": {},
   "source": [
    "### Below are a few examples of evaluating arithmetic expressions in Python.\n"
   ]
  },
  {
   "cell_type": "markdown",
   "id": "b3ff93c7-3225-4cd6-8e52-f2d96eb72fde",
   "metadata": {},
   "source": [
    "Exercise 8 - Create a code cell to multiply and add numbers"
   ]
  },
  {
   "cell_type": "markdown",
   "id": "99f57d77-7017-439b-bef6-34bc64673b29",
   "metadata": {},
   "source": [
    "This a simple arithmetic expression to mutiply then add integers."
   ]
  },
  {
   "cell_type": "code",
   "execution_count": 15,
   "id": "8830290c-f8b0-4a2d-9f73-fe06bb1fbdae",
   "metadata": {},
   "outputs": [
    {
     "data": {
      "text/plain": [
       "17"
      ]
     },
     "execution_count": 15,
     "metadata": {},
     "output_type": "execute_result"
    }
   ],
   "source": [
    "(3*4)+5"
   ]
  },
  {
   "cell_type": "markdown",
   "id": "bef9f1cd-8160-4e6f-b0de-2a1a35b189ff",
   "metadata": {},
   "source": [
    "Exercise 9 - Create a code cell to convert minutes to hours"
   ]
  },
  {
   "cell_type": "markdown",
   "id": "b60837be-7c49-40dd-b16b-63d12b1209fd",
   "metadata": {},
   "source": [
    " This will convert 200 minutes to hours by diving by 60."
   ]
  },
  {
   "cell_type": "code",
   "execution_count": 24,
   "id": "9bf57205-3ecd-4e78-98ff-6ee5ee4cab80",
   "metadata": {},
   "outputs": [
    {
     "name": "stdout",
     "output_type": "stream",
     "text": [
      "3.3333333333333335\n"
     ]
    }
   ],
   "source": [
    "minutes = 200\n",
    "hours = minutes / 60\n",
    "print(hours)"
   ]
  },
  {
   "cell_type": "markdown",
   "id": "f86aca3f-5034-4cc7-b5d6-a62641a737da",
   "metadata": {},
   "source": [
    "Exercise 11 - Create a markdown cell to indicate the Author's name"
   ]
  },
  {
   "cell_type": "markdown",
   "id": "54ac4217-59f8-483c-a942-36cf910b3cbf",
   "metadata": {},
   "source": [
    "## Author\n",
    "JIANXUE RAO"
   ]
  }
 ],
 "metadata": {
  "kernelspec": {
   "display_name": "anaconda-panel-2023.05-py310",
   "language": "python",
   "name": "conda-env-anaconda-panel-2023.05-py310-py"
  },
  "language_info": {
   "codemirror_mode": {
    "name": "ipython",
    "version": 3
   },
   "file_extension": ".py",
   "mimetype": "text/x-python",
   "name": "python",
   "nbconvert_exporter": "python",
   "pygments_lexer": "ipython3",
   "version": "3.11.4"
  }
 },
 "nbformat": 4,
 "nbformat_minor": 5
}
